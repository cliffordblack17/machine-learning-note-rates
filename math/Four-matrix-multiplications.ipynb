{
 "cells": [
  {
   "cell_type": "markdown",
   "id": "0d467d53",
   "metadata": {},
   "source": [
    "# 4 Different Ways to Multiply 2 Matrices"
   ]
  },
  {
   "cell_type": "markdown",
   "id": "2bf2ddd8",
   "metadata": {},
   "source": [
    "Let's establish a simple toy example as a baseline first:"
   ]
  },
  {
   "cell_type": "code",
   "execution_count": 1,
   "id": "21ebfb8b",
   "metadata": {},
   "outputs": [],
   "source": [
    "import numpy as np\n",
    "\n",
    "A = np.array([[1.1, 1.2, 1.3],\n",
    "              [2.4, 2.5, 2.6],\n",
    "              [3.7, 3.8, 3.9]])\n",
    "\n",
    "B = np.array([[4.1, 4.2, 4.3],\n",
    "              [5.4, 5.5, 5.6],\n",
    "              [6.7, 6.8, 6.9]])"
   ]
  },
  {
   "cell_type": "code",
   "execution_count": 2,
   "id": "d580b1e2",
   "metadata": {},
   "outputs": [
    {
     "data": {
      "text/plain": [
       "array([[19.7 , 20.06, 20.42],\n",
       "       [40.76, 41.51, 42.26],\n",
       "       [61.82, 62.96, 64.1 ]])"
      ]
     },
     "execution_count": 2,
     "metadata": {},
     "output_type": "execute_result"
    }
   ],
   "source": [
    "A @ B"
   ]
  },
  {
   "cell_type": "markdown",
   "id": "9973a3fd",
   "metadata": {},
   "source": [
    "## 1) Compute row-column dot-products (the conventional way)"
   ]
  },
  {
   "cell_type": "markdown",
   "id": "34d24c92",
   "metadata": {},
   "source": [
    "Each element A[i, j] in the resulting matrix A.B = AB is a dot product of row A[i, ] and column B[, j]."
   ]
  },
  {
   "cell_type": "code",
   "execution_count": 3,
   "id": "4cd74540",
   "metadata": {},
   "outputs": [
    {
     "data": {
      "text/plain": [
       "array([[19.7 , 20.06, 20.42],\n",
       "       [40.76, 41.51, 42.26],\n",
       "       [61.82, 62.96, 64.1 ]])"
      ]
     },
     "execution_count": 3,
     "metadata": {},
     "output_type": "execute_result"
    }
   ],
   "source": [
    "AB = np.zeros((A.shape[0], B.shape[1]))\n",
    "\n",
    "for i, row in enumerate(A):\n",
    "    for j, column in enumerate(B.T):\n",
    "        AB[i, j] = row.dot(column)\n",
    "\n",
    "AB"
   ]
  },
  {
   "cell_type": "markdown",
   "id": "0c04535d",
   "metadata": {},
   "source": [
    "## 2) Row-vectors times matrix"
   ]
  },
  {
   "cell_type": "markdown",
   "id": "07563cac",
   "metadata": {},
   "source": [
    "For each column B[, j], compute the dot products between A and B[, j] to get the resulting column AB[, j]."
   ]
  },
  {
   "cell_type": "markdown",
   "id": "4c7e9614",
   "metadata": {},
   "source": [
    "For each row A[i, ], compute the dot products with B to get the resulting row AB[i, ]."
   ]
  },
  {
   "cell_type": "code",
   "execution_count": 4,
   "id": "a7c72e7f",
   "metadata": {},
   "outputs": [
    {
     "data": {
      "text/plain": [
       "array([[19.7 , 20.06, 20.42],\n",
       "       [40.76, 41.51, 42.26],\n",
       "       [61.82, 62.96, 64.1 ]])"
      ]
     },
     "execution_count": 4,
     "metadata": {},
     "output_type": "execute_result"
    }
   ],
   "source": [
    "AB = np.zeros((A.shape[0], B.shape[1]))\n",
    "\n",
    "for i, row in enumerate(A):\n",
    "    AB[i] = row.dot(B)\n",
    "    \n",
    "AB"
   ]
  },
  {
   "cell_type": "markdown",
   "id": "c240fdca",
   "metadata": {},
   "source": [
    "## 3) Matrix times column-vectors"
   ]
  },
  {
   "cell_type": "code",
   "execution_count": 5,
   "id": "a9448d82",
   "metadata": {},
   "outputs": [
    {
     "data": {
      "text/plain": [
       "array([[19.7 , 20.06, 20.42],\n",
       "       [40.76, 41.51, 42.26],\n",
       "       [61.82, 62.96, 64.1 ]])"
      ]
     },
     "execution_count": 5,
     "metadata": {},
     "output_type": "execute_result"
    }
   ],
   "source": [
    "AB = np.zeros((A.shape[0], B.shape[1]))\n",
    "\n",
    "for j, column in enumerate(B.T):\n",
    "    AB[:, j] = A.dot(column[:, None]).flatten()\n",
    "    \n",
    "AB"
   ]
  },
  {
   "cell_type": "markdown",
   "id": "72162938",
   "metadata": {},
   "source": [
    "## 4) Columns times rows"
   ]
  },
  {
   "cell_type": "markdown",
   "id": "d8bfe8ea",
   "metadata": {},
   "source": [
    "This procedure works for square matrices only:\n",
    "\n",
    "- Compute the dot-products between the columns in A and rows in B. \n",
    "- If A is $m\\times n$-dimensional, each dot-product is a $m\\times n$-dimensional matrix\n",
    "- Then sum these matrices"
   ]
  },
  {
   "cell_type": "code",
   "execution_count": 6,
   "id": "f1560377",
   "metadata": {},
   "outputs": [
    {
     "data": {
      "text/plain": [
       "array([[19.7 , 20.06, 20.42],\n",
       "       [40.76, 41.51, 42.26],\n",
       "       [61.82, 62.96, 64.1 ]])"
      ]
     },
     "execution_count": 6,
     "metadata": {},
     "output_type": "execute_result"
    }
   ],
   "source": [
    "AB = np.zeros((A.shape[1], B.shape[0]))\n",
    "\n",
    "assert A.shape == B.shape\n",
    "assert A.shape[0] == A.shape[1]\n",
    "\n",
    "for column_A, row_B in zip(A.T, B):\n",
    "    AB += column_A[:, None].dot(row_B[None, :])\n",
    "    \n",
    "AB"
   ]
  }
 ],
 "metadata": {
  "kernelspec": {
   "display_name": "Python 3 (ipykernel)",
   "language": "python",
   "name": "python3"
  },
  "language_info": {
   "codemirror_mode": {
    "name": "ipython",
    "version": 3
   },
   "file_extension": ".py",
   "mimetype": "text/x-python",
   "name": "python",
   "nbconvert_exporter": "python",
   "pygments_lexer": "ipython3",
   "version": "3.9.13"
  }
 },
 "nbformat": 4,
 "nbformat_minor": 5
}
